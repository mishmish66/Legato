{
 "cells": [
  {
   "cell_type": "code",
   "execution_count": 2,
   "metadata": {},
   "outputs": [],
   "source": [
    "import os\n",
    "\n",
    "import gymnasium as gym\n",
    "import mediapy as media\n",
    "import numpy as np\n",
    "import seaborn as sns\n",
    "import torch\n",
    "from tqdm import tqdm\n",
    "import wandb\n",
    "\n",
    "from legato.nets import *\n",
    "from legato.sampler import *"
   ]
  },
  {
   "cell_type": "code",
   "execution_count": 3,
   "metadata": {},
   "outputs": [],
   "source": [
    "# Set mujoco to use EGL\n",
    "os.environ[\"MUJOCO_GL\"] = \"egl\""
   ]
  },
  {
   "cell_type": "code",
   "execution_count": 4,
   "metadata": {},
   "outputs": [],
   "source": [
    "# Download files from a past wandb run\n",
    "run_id = \"bple4jb0\"\n",
    "for name in [\n",
    "    \"state_encoder.pt\",\n",
    "    \"action_encoder.pt\",\n",
    "    \"transition_model.pt\",\n",
    "    \"state_decoder.pt\",\n",
    "    \"action_decoder.pt\",\n",
    "    \"indices.npz\",\n",
    "]:\n",
    "    wandb.restore(\n",
    "        f\"trained_net_params/{name}\",\n",
    "        run_path=f\"mishmish66/legato/{run_id}\",\n",
    "        replace=True,\n",
    "        root=\"../\",\n",
    "    )"
   ]
  },
  {
   "cell_type": "code",
   "execution_count": 5,
   "metadata": {},
   "outputs": [],
   "source": [
    "# Load models\n",
    "state_encoder = torch.load('../trained_net_params/state_encoder.pt')\n",
    "action_encoder = torch.load('../trained_net_params/action_encoder.pt')\n",
    "transiton_model = torch.load('../trained_net_params/transition_model.pt')\n",
    "state_decoder = torch.load('../trained_net_params/state_decoder.pt')\n",
    "action_decoder = torch.load('../trained_net_params/action_decoder.pt')"
   ]
  },
  {
   "cell_type": "code",
   "execution_count": 6,
   "metadata": {},
   "outputs": [],
   "source": [
    "action_space_size = 1.0"
   ]
  },
  {
   "cell_type": "code",
   "execution_count": 51,
   "metadata": {},
   "outputs": [
    {
     "name": "stderr",
     "output_type": "stream",
     "text": [
      "/home/mishmish/Documents/venvs/legato_simple/lib/python3.10/site-packages/gymnasium/vector/__init__.py:53: UserWarning: \u001b[33mWARN: `gymnasium.vector.make(...)` is deprecated and will be replaced by `gymnasium.make_vec(...)` in v1.0\u001b[0m\n",
      "  gym.logger.warn(\n"
     ]
    },
    {
     "name": "stdout",
     "output_type": "stream",
     "text": [
      "0.07488493621349335\n",
      "Iteration 0, 0 after skip, action: [0.2658041  0.00146246]\n",
      "0.07900359481573105\n",
      "Iteration 1, 0 after skip, action: [-0.42998052  1.2624397 ]\n",
      "0.08638110011816025\n",
      "Iteration 2, 0 after skip, action: [0.15469609 0.580809  ]\n",
      "0.05158325284719467\n",
      "Iteration 3, 0 after skip, action: [0.33372986 0.6076354 ]\n",
      "0.05210656300187111\n",
      "Iteration 4, 0 after skip, action: [1.0304425  0.16336884]\n",
      "0.07886787503957748\n",
      "Iteration 5, 0 after skip, action: [2.5599751 0.8832046]\n",
      "0.05435985326766968\n",
      "Iteration 6, 0 after skip, action: [3.3189018  0.10486207]\n",
      "0.05899111181497574\n",
      "Iteration 7, 0 after skip, action: [0.8735696  0.08829601]\n",
      "0.08780578523874283\n",
      "Iteration 8, 0 after skip, action: [ 2.4956145 -0.0295859]\n",
      "0.07964245229959488\n",
      "Iteration 9, 0 after skip, action: [0.6054009  0.13569869]\n",
      "0.06384626030921936\n",
      "Iteration 10, 0 after skip, action: [0.10534577 0.79591525]\n",
      "0.025355752557516098\n",
      "Iteration 11, 0 after skip, action: [0.7846203  0.85085547]\n",
      "0.03232073783874512\n",
      "Iteration 12, 0 after skip, action: [2.6239133  0.37294728]\n",
      "0.024425841867923737\n",
      "Iteration 13, 0 after skip, action: [ 3.4515781  -0.11919899]\n",
      "0.03292993828654289\n",
      "Iteration 14, 0 after skip, action: [ 0.8056512 -5.353028 ]\n",
      "0.024799207225441933\n",
      "Iteration 15, 0 after skip, action: [0.14626305 0.43529743]\n",
      "0.0328403115272522\n",
      "Iteration 16, 0 after skip, action: [1.1249048  0.39547488]\n",
      "0.036906857043504715\n",
      "Iteration 17, 0 after skip, action: [1.906771   0.16716854]\n",
      "0.027644723653793335\n",
      "Iteration 18, 0 after skip, action: [3.4274676  0.06770437]\n",
      "0.020894324406981468\n",
      "Iteration 19, 0 after skip, action: [ 1.2573206 -2.5766363]\n",
      "0.022298861294984818\n",
      "Iteration 20, 0 after skip, action: [ 5.139898 -1.807044]\n",
      "0.019870508462190628\n",
      "Iteration 21, 0 after skip, action: [ 2.9743803 -7.2084374]\n",
      "0.029853474348783493\n",
      "Iteration 22, 0 after skip, action: [1.1103956  0.17337152]\n",
      "0.022435743361711502\n",
      "Iteration 23, 0 after skip, action: [-0.48170468  1.0106899 ]\n",
      "0.021413529291749\n",
      "Iteration 24, 0 after skip, action: [ 1.9711523  -0.04207018]\n",
      "0.08884541690349579\n",
      "Iteration 25, 0 after skip, action: [0.34404093 0.2512762 ]\n",
      "0.051401037722826004\n",
      "Iteration 26, 0 after skip, action: [2.5233233  0.37662047]\n",
      "0.04284779354929924\n",
      "Iteration 27, 0 after skip, action: [ 1.8792204 -1.615865 ]\n",
      "0.02979378215968609\n",
      "Iteration 28, 0 after skip, action: [4.8624043  0.08177134]\n",
      "0.08714698255062103\n",
      "Iteration 29, 0 after skip, action: [0.19241709 0.09164031]\n",
      "0.048147935420274734\n",
      "Iteration 30, 0 after skip, action: [-0.27371785  0.88025594]\n",
      "0.0545087493956089\n",
      "Iteration 31, 0 after skip, action: [0.05866363 0.358535  ]\n",
      "0.06223263591527939\n",
      "Iteration 32, 0 after skip, action: [0.0868508  0.07086634]\n",
      "0.03001497872173786\n",
      "Iteration 33, 0 after skip, action: [1.0527196  0.45230645]\n",
      "0.05873066186904907\n",
      "Iteration 34, 0 after skip, action: [2.8382416e+00 2.2718012e-03]\n",
      "0.04919540137052536\n",
      "Iteration 35, 0 after skip, action: [0.07474756 0.2574267 ]\n",
      "0.0650397390127182\n",
      "Iteration 36, 0 after skip, action: [0.18647397 0.14503846]\n",
      "0.04796218127012253\n",
      "Iteration 37, 0 after skip, action: [-0.6292486  0.9339671]\n",
      "0.04727645590901375\n",
      "Iteration 38, 0 after skip, action: [-0.05596169 -2.2082982 ]\n",
      "0.040687400847673416\n",
      "Iteration 39, 0 after skip, action: [-1.6426796  5.325996 ]\n",
      "0.043687544763088226\n",
      "Iteration 40, 0 after skip, action: [-0.20424043  0.87320364]\n",
      "0.04298090189695358\n",
      "Iteration 41, 0 after skip, action: [-0.17465936  0.6540614 ]\n",
      "0.08627503365278244\n",
      "Iteration 42, 0 after skip, action: [-0.42307928  0.78096384]\n",
      "0.040626272559165955\n",
      "Iteration 43, 0 after skip, action: [-0.2711266  0.6045043]\n",
      "0.07558038085699081\n",
      "Iteration 44, 0 after skip, action: [1.4110104  0.38067418]\n",
      "0.048945993185043335\n",
      "Iteration 45, 0 after skip, action: [ 0.05171604 -1.8526251 ]\n",
      "0.032000355422496796\n",
      "Iteration 46, 0 after skip, action: [-0.3558507  1.1012704]\n",
      "0.03912873938679695\n",
      "Iteration 47, 0 after skip, action: [ 1.2789588 -8.133611 ]\n",
      "0.04774497449398041\n",
      "Iteration 48, 0 after skip, action: [-0.7279017  0.6440837]\n",
      "0.08771670609712601\n",
      "Iteration 49, 0 after skip, action: [1.742251   0.22675493]\n",
      "0.04739878699183464\n",
      "Iteration 50, 0 after skip, action: [1.5495284  0.90359545]\n",
      "0.07403648644685745\n",
      "Iteration 51, 0 after skip, action: [-2.2056096  0.8027786]\n",
      "0.049592070281505585\n",
      "Iteration 52, 0 after skip, action: [ 1.3273470e-03 -3.3014069e+00]\n",
      "0.07920508086681366\n",
      "Iteration 53, 0 after skip, action: [-0.2150069 -3.1486568]\n",
      "0.08157579600811005\n",
      "Iteration 54, 0 after skip, action: [-0.3235535 -1.1820611]\n",
      "0.14916372299194336\n",
      "Iteration 55, 0 after skip, action: [-0.03124394  0.28731242]\n",
      "0.06847091764211655\n",
      "Iteration 56, 0 after skip, action: [-4.642466   1.4335185]\n",
      "0.06985552608966827\n",
      "Iteration 57, 0 after skip, action: [-6.0666194 -1.2789876]\n",
      "0.074742391705513\n",
      "Iteration 58, 0 after skip, action: [-0.38464746  0.7722195 ]\n",
      "0.14151811599731445\n",
      "Iteration 59, 0 after skip, action: [-0.7313397  1.3967893]\n",
      "0.14931608736515045\n",
      "Iteration 60, 0 after skip, action: [-5.3688574   0.93294525]\n",
      "0.09432107955217361\n",
      "Iteration 61, 0 after skip, action: [-0.5520103  1.3709548]\n",
      "0.05030838027596474\n",
      "Iteration 62, 0 after skip, action: [-0.67433476 -2.3623118 ]\n",
      "0.05439523234963417\n",
      "Iteration 63, 0 after skip, action: [-1.5696958  0.6946031]\n",
      "0.054897382855415344\n",
      "Iteration 64, 0 after skip, action: [ -3.8612118 -12.0635605]\n",
      "0.07676614820957184\n",
      "Iteration 65, 0 after skip, action: [-4.9856687  0.6254755]\n",
      "0.04615489020943642\n",
      "Iteration 66, 0 after skip, action: [-1.3747221 -3.146396 ]\n",
      "0.08167953044176102\n",
      "Iteration 67, 0 after skip, action: [-4.0003257 -4.507918 ]\n",
      "0.057262398302555084\n",
      "Iteration 68, 0 after skip, action: [-1.5230231  1.0507381]\n",
      "0.1939239203929901\n",
      "Iteration 69, 0 after skip, action: [ -5.312248 -12.688789]\n",
      "0.1732008308172226\n",
      "Iteration 70, 0 after skip, action: [-3.2137892   0.36422476]\n",
      "0.20806139707565308\n",
      "Iteration 71, 0 after skip, action: [-1.1879221 -1.0980705]\n",
      "0.21462948620319366\n",
      "Iteration 72, 0 after skip, action: [-0.7517637 -3.0705574]\n",
      "0.25779110193252563\n",
      "Iteration 73, 0 after skip, action: [-2.0605676   0.89525324]\n",
      "0.08159694820642471\n",
      "Iteration 74, 0 after skip, action: [-0.5879344 -4.659361 ]\n",
      "0.11049558967351913\n",
      "Iteration 75, 0 after skip, action: [-1.7412146  1.8711004]\n",
      "0.07471144944429398\n",
      "Iteration 76, 0 after skip, action: [-5.100579  -1.9004723]\n",
      "0.3073776066303253\n",
      "Iteration 77, 0 after skip, action: [-0.7937652 -5.9352164]\n",
      "0.11336979269981384\n",
      "Iteration 78, 0 after skip, action: [-1.5386244   0.13706511]\n",
      "0.07607036083936691\n",
      "Iteration 79, 0 after skip, action: [-5.7805643 -8.843591 ]\n",
      "0.21511702239513397\n",
      "Iteration 80, 0 after skip, action: [-1.3192024  4.660076 ]\n",
      "0.08638197183609009\n",
      "Iteration 81, 0 after skip, action: [-3.2286751 -2.072967 ]\n",
      "0.20613496005535126\n",
      "Iteration 82, 0 after skip, action: [-3.765221   3.3488772]\n",
      "0.35523924231529236\n",
      "Iteration 83, 0 after skip, action: [ -0.63279736 -13.561771  ]\n",
      "0.3350107967853546\n",
      "Iteration 84, 0 after skip, action: [-1.176099    0.13742705]\n",
      "0.24103009700775146\n",
      "Iteration 85, 0 after skip, action: [0.32646284 2.1453621 ]\n",
      "0.4320041239261627\n",
      "Iteration 86, 0 after skip, action: [-0.84413815  3.1283302 ]\n",
      "0.18792429566383362\n",
      "Iteration 87, 0 after skip, action: [-0.9990754  1.2331147]\n",
      "0.28146061301231384\n",
      "Iteration 88, 0 after skip, action: [3.2468586  0.21426101]\n",
      "0.40400996804237366\n",
      "Iteration 89, 0 after skip, action: [-1.0780549  2.0144234]\n",
      "0.44003909826278687\n",
      "Iteration 90, 0 after skip, action: [-1.1801898  3.1281478]\n",
      "0.7997214794158936\n",
      "Iteration 91, 0 after skip, action: [-1.338672   1.7554903]\n",
      "1.043485403060913\n",
      "Iteration 92, 0 after skip, action: [7.7025323 6.1936235]\n",
      "1.0060774087905884\n",
      "Iteration 93, 0 after skip, action: [-1.1015004 -6.878568 ]\n",
      "0.9240561127662659\n",
      "Iteration 94, 0 after skip, action: [-6.9822803  1.1772515]\n",
      "0.679865300655365\n",
      "Iteration 95, 0 after skip, action: [ 2.839122 -1.278343]\n",
      "0.434849351644516\n",
      "Iteration 96, 0 after skip, action: [-3.47766    1.1564012]\n",
      "0.47341054677963257\n",
      "Iteration 97, 0 after skip, action: [-1.1421542  3.8913941]\n",
      "0.46439895033836365\n",
      "Iteration 98, 0 after skip, action: [  0.03707416 -13.768553  ]\n",
      "0.5333130955696106\n",
      "Iteration 99, 0 after skip, action: [ 2.0524137 -7.394426 ]\n",
      "0.9761041402816772\n",
      "Iteration 100, 0 after skip, action: [-0.82663393  0.08613773]\n",
      "0.8241577744483948\n",
      "Iteration 101, 0 after skip, action: [-2.9373734   0.07625125]\n",
      "0.942110538482666\n",
      "Iteration 102, 0 after skip, action: [0.6074097  0.13333736]\n",
      "1.1164977550506592\n",
      "Iteration 103, 0 after skip, action: [ 1.5001614  -0.20963193]\n",
      "1.144076943397522\n",
      "Iteration 104, 0 after skip, action: [0.6311587  0.03710289]\n",
      "1.117252230644226\n",
      "Iteration 105, 0 after skip, action: [ 0.6133946  -0.06658836]\n",
      "0.9187623262405396\n",
      "Iteration 106, 0 after skip, action: [0.64087033 0.18157029]\n",
      "0.09273739159107208\n",
      "Iteration 107, 0 after skip, action: [4.644335  1.7667043]\n",
      "0.16330058872699738\n",
      "Iteration 108, 0 after skip, action: [ 5.2704735  -0.15130971]\n",
      "0.08021329343318939\n",
      "Iteration 109, 0 after skip, action: [ 5.68748    -0.09394082]\n",
      "0.09504150599241257\n",
      "Iteration 110, 0 after skip, action: [ 6.1383023 -0.4691641]\n",
      "0.10646865516901016\n",
      "Iteration 111, 0 after skip, action: [5.2406626  0.11351544]\n",
      "1.1015493869781494\n",
      "Iteration 112, 0 after skip, action: [ 0.63279736 -0.19017099]\n",
      "0.28078827261924744\n",
      "Iteration 113, 0 after skip, action: [  9.37881  -10.163898]\n",
      "0.9110125303268433\n",
      "Iteration 114, 0 after skip, action: [0.89099574 0.10227112]\n",
      "0.9917118549346924\n",
      "Iteration 115, 0 after skip, action: [ 0.64890444 -0.17101446]\n",
      "2.208622694015503\n",
      "Iteration 116, 0 after skip, action: [ 1.0174    -0.4143567]\n",
      "1.2283973693847656\n",
      "Iteration 117, 0 after skip, action: [ 3.7500546  -0.32835793]\n",
      "3.6383564472198486\n",
      "Iteration 118, 0 after skip, action: [ 4.1976714  -0.29992107]\n",
      "5.598325729370117\n",
      "Iteration 119, 0 after skip, action: [5.024986  1.5741423]\n",
      "5.601632595062256\n",
      "Iteration 120, 0 after skip, action: [ 4.900453  -6.2964153]\n",
      "2.380969285964966\n",
      "Iteration 121, 0 after skip, action: [ 3.1718252  -0.11427093]\n",
      "3.170743465423584\n",
      "Iteration 122, 0 after skip, action: [-6.7934575   0.56674975]\n",
      "2.471099615097046\n",
      "Iteration 123, 0 after skip, action: [-10.299941   9.531517]\n",
      "2.825244426727295\n",
      "Iteration 124, 0 after skip, action: [-7.0215697  0.5136621]\n",
      "2.304234504699707\n",
      "Iteration 125, 0 after skip, action: [0.76268125 0.08734778]\n",
      "4.995576858520508\n",
      "Iteration 126, 0 after skip, action: [1.3212479  0.38601118]\n",
      "8.093159675598145\n",
      "Iteration 127, 0 after skip, action: [ 1.9475027 -2.3370125]\n"
     ]
    }
   ],
   "source": [
    "# Now let's optimize a trajectory\n",
    "def unhuber(x, y):\n",
    "    l1 = torch.norm(x - y, p=1, dim=-1)\n",
    "    l2 = torch.norm(x - y, p=2, dim=-1).square()\n",
    "    return torch.maximum(l1, l2)\n",
    "\n",
    "\n",
    "actor = ActorPolicy(\n",
    "    2,\n",
    "    action_space_size,\n",
    "    state_encoder,\n",
    "    transiton_model,\n",
    "    state_decoder,\n",
    "    action_decoder,\n",
    "    optim_factory=torch.optim.AdamW,\n",
    "    # loss_func=unhuber,\n",
    "    loss_func=torch.nn.MSELoss(reduction=\"none\"),\n",
    "    lr=0.1,\n",
    "    decay=1.0,\n",
    "    horizon=1024,\n",
    "    iters=64,\n",
    "    # tail_states=4,\n",
    "    discount=0.995,\n",
    ").cuda()\n",
    "\n",
    "# actor = torch.compile(actor)\n",
    "episode_len = 128\n",
    "\n",
    "parallel_env_count = 8\n",
    "# Make parallel env\n",
    "envs = gym.vector.make(\n",
    "    \"PointMaze_Medium-v3\",\n",
    "    num_envs=parallel_env_count,\n",
    "    asynchronous=True,\n",
    "    render_mode=\"rgb_array\",\n",
    "    continuing_task=True,\n",
    "    max_episode_steps=episode_len,\n",
    "    reset_target=True,\n",
    ")\n",
    "\n",
    "obses, infos = envs.reset()\n",
    "states = torch.tensor(obses[\"observation\"], dtype=torch.float32, device=\"cuda\")\n",
    "\n",
    "latent_action_plan = None\n",
    "\n",
    "initial_state = states\n",
    "\n",
    "traj_actions = []\n",
    "traj_states = [initial_state]\n",
    "\n",
    "frame_stacks = [[frame] for frame in envs.call(\"render\")]\n",
    "\n",
    "skips = 1\n",
    "\n",
    "loss_curves = []\n",
    "for i in tqdm(range(episode_len), disable=True):\n",
    "\n",
    "    if i % skips == 0:\n",
    "        target_states = torch.zeros(\n",
    "            (parallel_env_count, 4), dtype=torch.float32, device=\"cuda\"\n",
    "        )\n",
    "        desired_goals = torch.tensor(\n",
    "            obses[\"desired_goal\"], dtype=torch.float32, device=\"cuda\"\n",
    "        )\n",
    "        target_states[:, :2] = desired_goals\n",
    "\n",
    "        horizon_len = min(128, episode_len - i)\n",
    "        horizons = torch.ones(parallel_env_count, device=\"cuda\") * horizon_len\n",
    "        next_actions, latent_action_plan, loss_curve = actor(\n",
    "            states, target_states, horizons, None, return_curve=True\n",
    "            # states, target_states, horizons, latent_action_plan, return_curve=True\n",
    "        )\n",
    "\n",
    "    else:\n",
    "        next_latent_act = latent_action_plan[..., 0, :]\n",
    "        latent_action_plan = latent_action_plan[..., 1:, :]\n",
    "\n",
    "        latent_states = state_encoder(states)\n",
    "        next_actions = action_decoder((next_latent_act, latent_states)).detach()\n",
    "\n",
    "    loss_curves.append(loss_curve)\n",
    "    obses, rew, term, trunc, info = envs.step(next_actions.cpu().numpy())\n",
    "    states = torch.tensor(obses[\"observation\"], dtype=torch.float32, device=\"cuda\")\n",
    "\n",
    "    traj_actions.append(next_actions)\n",
    "    traj_states.append(obses[\"observation\"])\n",
    "\n",
    "    for frame_stack, frame in zip(frame_stacks, envs.call(\"render\")):\n",
    "        frame_stack.append(frame)\n",
    "\n",
    "    if i % skips in [skips - 1, 0, 1]:\n",
    "        print(\n",
    "            f\"Iteration {i}, {i % skips} after skip, action: {next_actions[0].cpu().numpy()}\"\n",
    "        )\n",
    "\n",
    "# traj_actions = torch.stack(traj_actions, dim=1)\n",
    "# traj_states = torch.tensor(states, dtype=torch.float32, device=\"cuda\")"
   ]
  },
  {
   "cell_type": "code",
   "execution_count": 52,
   "metadata": {},
   "outputs": [
    {
     "data": {
      "text/plain": [
       "<Axes: >"
      ]
     },
     "execution_count": 52,
     "metadata": {},
     "output_type": "execute_result"
    },
    {
     "data": {
      "image/png": "[encoded data removed]",
      "text/plain": [
       "<Figure size 640x480 with 1 Axes>"
      ]
     },
     "metadata": {},
     "output_type": "display_data"
    }
   ],
   "source": [
    "curve = loss_curves[0]\n",
    "# Plot the loss curve with i as the x axis\n",
    "sns.lineplot(x=range(len(curve)), y=curve)"
   ]
  },
  {
   "cell_type": "code",
   "execution_count": 62,
   "metadata": {},
   "outputs": [
    {
     "data": {
      "text/html": [
       "<table class=\"show_videos\" style=\"border-spacing:0px;\"><tr><td style=\"padding:1px;\"><video controls width=\"480\" height=\"480\" style=\"object-fit:cover;\" loop autoplay muted>\n",
       "      <source src=\"data:video/mp4;base64,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\" type=\"video/mp4\"/>\n",
       "      This browser does not support the video tag.\n",
       "      </video></td></tr></table>"
      ],
      "text/plain": [
       "<IPython.core.display.HTML object>"
      ]
     },
     "metadata": {},
     "output_type": "display_data"
    }
   ],
   "source": [
    "# Show the video\n",
    "media.show_video(frame_stacks[1], fps=60)"
   ]
  },
  {
   "cell_type": "code",
   "execution_count": 9,
   "metadata": {},
   "outputs": [],
   "source": [
    "# Load data from data.npz\n",
    "data = np.load(\"../data.npz\")\n",
    "torchify = lambda *xs: [torch.tensor(x, dtype=torch.float32, device=\"cuda\") for x in xs]\n",
    "# torchify = lambda *xs: [torch.tensor(x, dtype=torch.float32) for x in xs]\n",
    "observations, actions = torchify(data[\"observations\"], data[\"actions\"])\n",
    "# observations, actions = observations[:4096], actions[:4096]"
   ]
  },
  {
   "cell_type": "code",
   "execution_count": 10,
   "metadata": {},
   "outputs": [
    {
     "ename": "RuntimeError",
     "evalue": "Tensor type unknown to einops <class 'list'>",
     "output_type": "error",
     "traceback": [
      "\u001b[0;31m---------------------------------------------------------------------------\u001b[0m",
      "\u001b[0;31mRuntimeError\u001b[0m                              Traceback (most recent call last)",
      "Cell \u001b[0;32mIn[10], line 1\u001b[0m\n\u001b[0;32m----> 1\u001b[0m latent_traj_states \u001b[38;5;241m=\u001b[39m \u001b[43mstate_encoder\u001b[49m\u001b[43m(\u001b[49m\u001b[43mtraj_states\u001b[49m\u001b[43m)\u001b[49m\n\u001b[1;32m      2\u001b[0m latent_traj_actions \u001b[38;5;241m=\u001b[39m action_encoder((traj_actions, traj_states[\u001b[38;5;241m.\u001b[39m\u001b[38;5;241m.\u001b[39m\u001b[38;5;241m.\u001b[39m, :\u001b[38;5;241m-\u001b[39m\u001b[38;5;241m1\u001b[39m, :]))\n\u001b[1;32m      3\u001b[0m latent_initial_state \u001b[38;5;241m=\u001b[39m state_encoder(initial_state[\u001b[38;5;28;01mNone\u001b[39;00m])\n",
      "File \u001b[0;32m~/Documents/venvs/legato_simple/lib/python3.10/site-packages/torch/nn/modules/module.py:1511\u001b[0m, in \u001b[0;36mModule._wrapped_call_impl\u001b[0;34m(self, *args, **kwargs)\u001b[0m\n\u001b[1;32m   1509\u001b[0m     \u001b[38;5;28;01mreturn\u001b[39;00m \u001b[38;5;28mself\u001b[39m\u001b[38;5;241m.\u001b[39m_compiled_call_impl(\u001b[38;5;241m*\u001b[39margs, \u001b[38;5;241m*\u001b[39m\u001b[38;5;241m*\u001b[39mkwargs)  \u001b[38;5;66;03m# type: ignore[misc]\u001b[39;00m\n\u001b[1;32m   1510\u001b[0m \u001b[38;5;28;01melse\u001b[39;00m:\n\u001b[0;32m-> 1511\u001b[0m     \u001b[38;5;28;01mreturn\u001b[39;00m \u001b[38;5;28;43mself\u001b[39;49m\u001b[38;5;241;43m.\u001b[39;49m\u001b[43m_call_impl\u001b[49m\u001b[43m(\u001b[49m\u001b[38;5;241;43m*\u001b[39;49m\u001b[43margs\u001b[49m\u001b[43m,\u001b[49m\u001b[43m \u001b[49m\u001b[38;5;241;43m*\u001b[39;49m\u001b[38;5;241;43m*\u001b[39;49m\u001b[43mkwargs\u001b[49m\u001b[43m)\u001b[49m\n",
      "File \u001b[0;32m~/Documents/venvs/legato_simple/lib/python3.10/site-packages/torch/nn/modules/module.py:1520\u001b[0m, in \u001b[0;36mModule._call_impl\u001b[0;34m(self, *args, **kwargs)\u001b[0m\n\u001b[1;32m   1515\u001b[0m \u001b[38;5;66;03m# If we don't have any hooks, we want to skip the rest of the logic in\u001b[39;00m\n\u001b[1;32m   1516\u001b[0m \u001b[38;5;66;03m# this function, and just call forward.\u001b[39;00m\n\u001b[1;32m   1517\u001b[0m \u001b[38;5;28;01mif\u001b[39;00m \u001b[38;5;129;01mnot\u001b[39;00m (\u001b[38;5;28mself\u001b[39m\u001b[38;5;241m.\u001b[39m_backward_hooks \u001b[38;5;129;01mor\u001b[39;00m \u001b[38;5;28mself\u001b[39m\u001b[38;5;241m.\u001b[39m_backward_pre_hooks \u001b[38;5;129;01mor\u001b[39;00m \u001b[38;5;28mself\u001b[39m\u001b[38;5;241m.\u001b[39m_forward_hooks \u001b[38;5;129;01mor\u001b[39;00m \u001b[38;5;28mself\u001b[39m\u001b[38;5;241m.\u001b[39m_forward_pre_hooks\n\u001b[1;32m   1518\u001b[0m         \u001b[38;5;129;01mor\u001b[39;00m _global_backward_pre_hooks \u001b[38;5;129;01mor\u001b[39;00m _global_backward_hooks\n\u001b[1;32m   1519\u001b[0m         \u001b[38;5;129;01mor\u001b[39;00m _global_forward_hooks \u001b[38;5;129;01mor\u001b[39;00m _global_forward_pre_hooks):\n\u001b[0;32m-> 1520\u001b[0m     \u001b[38;5;28;01mreturn\u001b[39;00m \u001b[43mforward_call\u001b[49m\u001b[43m(\u001b[49m\u001b[38;5;241;43m*\u001b[39;49m\u001b[43margs\u001b[49m\u001b[43m,\u001b[49m\u001b[43m \u001b[49m\u001b[38;5;241;43m*\u001b[39;49m\u001b[38;5;241;43m*\u001b[39;49m\u001b[43mkwargs\u001b[49m\u001b[43m)\u001b[49m\n\u001b[1;32m   1522\u001b[0m \u001b[38;5;28;01mtry\u001b[39;00m:\n\u001b[1;32m   1523\u001b[0m     result \u001b[38;5;241m=\u001b[39m \u001b[38;5;28;01mNone\u001b[39;00m\n",
      "File \u001b[0;32m~/Documents/legato/legato/nets.py:54\u001b[0m, in \u001b[0;36mFreqceptron.forward\u001b[0;34m(self, x)\u001b[0m\n\u001b[1;32m     53\u001b[0m \u001b[38;5;28;01mdef\u001b[39;00m \u001b[38;5;21mforward\u001b[39m(\u001b[38;5;28mself\u001b[39m, x):\n\u001b[0;32m---> 54\u001b[0m     x \u001b[38;5;241m=\u001b[39m \u001b[38;5;28;43mself\u001b[39;49m\u001b[38;5;241;43m.\u001b[39;49m\u001b[43mfreq_layer\u001b[49m\u001b[43m(\u001b[49m\u001b[43mx\u001b[49m\u001b[43m)\u001b[49m\n\u001b[1;32m     55\u001b[0m     \u001b[38;5;28;01mfor\u001b[39;00m layer \u001b[38;5;129;01min\u001b[39;00m \u001b[38;5;28mself\u001b[39m\u001b[38;5;241m.\u001b[39mlayers[:\u001b[38;5;241m-\u001b[39m\u001b[38;5;241m1\u001b[39m]:\n\u001b[1;32m     56\u001b[0m         x \u001b[38;5;241m=\u001b[39m torch\u001b[38;5;241m.\u001b[39mrelu(layer(x))\n",
      "File \u001b[0;32m~/Documents/venvs/legato_simple/lib/python3.10/site-packages/torch/nn/modules/module.py:1511\u001b[0m, in \u001b[0;36mModule._wrapped_call_impl\u001b[0;34m(self, *args, **kwargs)\u001b[0m\n\u001b[1;32m   1509\u001b[0m     \u001b[38;5;28;01mreturn\u001b[39;00m \u001b[38;5;28mself\u001b[39m\u001b[38;5;241m.\u001b[39m_compiled_call_impl(\u001b[38;5;241m*\u001b[39margs, \u001b[38;5;241m*\u001b[39m\u001b[38;5;241m*\u001b[39mkwargs)  \u001b[38;5;66;03m# type: ignore[misc]\u001b[39;00m\n\u001b[1;32m   1510\u001b[0m \u001b[38;5;28;01melse\u001b[39;00m:\n\u001b[0;32m-> 1511\u001b[0m     \u001b[38;5;28;01mreturn\u001b[39;00m \u001b[38;5;28;43mself\u001b[39;49m\u001b[38;5;241;43m.\u001b[39;49m\u001b[43m_call_impl\u001b[49m\u001b[43m(\u001b[49m\u001b[38;5;241;43m*\u001b[39;49m\u001b[43margs\u001b[49m\u001b[43m,\u001b[49m\u001b[43m \u001b[49m\u001b[38;5;241;43m*\u001b[39;49m\u001b[38;5;241;43m*\u001b[39;49m\u001b[43mkwargs\u001b[49m\u001b[43m)\u001b[49m\n",
      "File \u001b[0;32m~/Documents/venvs/legato_simple/lib/python3.10/site-packages/torch/nn/modules/module.py:1520\u001b[0m, in \u001b[0;36mModule._call_impl\u001b[0;34m(self, *args, **kwargs)\u001b[0m\n\u001b[1;32m   1515\u001b[0m \u001b[38;5;66;03m# If we don't have any hooks, we want to skip the rest of the logic in\u001b[39;00m\n\u001b[1;32m   1516\u001b[0m \u001b[38;5;66;03m# this function, and just call forward.\u001b[39;00m\n\u001b[1;32m   1517\u001b[0m \u001b[38;5;28;01mif\u001b[39;00m \u001b[38;5;129;01mnot\u001b[39;00m (\u001b[38;5;28mself\u001b[39m\u001b[38;5;241m.\u001b[39m_backward_hooks \u001b[38;5;129;01mor\u001b[39;00m \u001b[38;5;28mself\u001b[39m\u001b[38;5;241m.\u001b[39m_backward_pre_hooks \u001b[38;5;129;01mor\u001b[39;00m \u001b[38;5;28mself\u001b[39m\u001b[38;5;241m.\u001b[39m_forward_hooks \u001b[38;5;129;01mor\u001b[39;00m \u001b[38;5;28mself\u001b[39m\u001b[38;5;241m.\u001b[39m_forward_pre_hooks\n\u001b[1;32m   1518\u001b[0m         \u001b[38;5;129;01mor\u001b[39;00m _global_backward_pre_hooks \u001b[38;5;129;01mor\u001b[39;00m _global_backward_hooks\n\u001b[1;32m   1519\u001b[0m         \u001b[38;5;129;01mor\u001b[39;00m _global_forward_hooks \u001b[38;5;129;01mor\u001b[39;00m _global_forward_pre_hooks):\n\u001b[0;32m-> 1520\u001b[0m     \u001b[38;5;28;01mreturn\u001b[39;00m \u001b[43mforward_call\u001b[49m\u001b[43m(\u001b[49m\u001b[38;5;241;43m*\u001b[39;49m\u001b[43margs\u001b[49m\u001b[43m,\u001b[49m\u001b[43m \u001b[49m\u001b[38;5;241;43m*\u001b[39;49m\u001b[38;5;241;43m*\u001b[39;49m\u001b[43mkwargs\u001b[49m\u001b[43m)\u001b[49m\n\u001b[1;32m   1522\u001b[0m \u001b[38;5;28;01mtry\u001b[39;00m:\n\u001b[1;32m   1523\u001b[0m     result \u001b[38;5;241m=\u001b[39m \u001b[38;5;28;01mNone\u001b[39;00m\n",
      "File \u001b[0;32m~/Documents/legato/legato/nets.py:41\u001b[0m, in \u001b[0;36mFreqLayer.forward\u001b[0;34m(self, x)\u001b[0m\n\u001b[1;32m     40\u001b[0m \u001b[38;5;28;01mdef\u001b[39;00m \u001b[38;5;21mforward\u001b[39m(\u001b[38;5;28mself\u001b[39m, x):\n\u001b[0;32m---> 41\u001b[0m     x_freq \u001b[38;5;241m=\u001b[39m \u001b[43meinsum\u001b[49m\u001b[43m(\u001b[49m\u001b[43mx\u001b[49m\u001b[43m,\u001b[49m\u001b[43m \u001b[49m\u001b[38;5;28;43mself\u001b[39;49m\u001b[38;5;241;43m.\u001b[39;49m\u001b[43mfreqs\u001b[49m\u001b[43m,\u001b[49m\u001b[43m \u001b[49m\u001b[38;5;124;43m\"\u001b[39;49m\u001b[38;5;124;43m... d, ... w -> ... w d\u001b[39;49m\u001b[38;5;124;43m\"\u001b[39;49m\u001b[43m)\u001b[49m\n\u001b[1;32m     42\u001b[0m     sines \u001b[38;5;241m=\u001b[39m torch\u001b[38;5;241m.\u001b[39msin(x_freq)\n\u001b[1;32m     43\u001b[0m     cosines \u001b[38;5;241m=\u001b[39m torch\u001b[38;5;241m.\u001b[39mcos(x_freq)\n",
      "File \u001b[0;32m~/Documents/venvs/legato_simple/lib/python3.10/site-packages/einops/einops.py:901\u001b[0m, in \u001b[0;36meinsum\u001b[0;34m(*tensors_and_pattern)\u001b[0m\n\u001b[1;32m    899\u001b[0m tensors \u001b[38;5;241m=\u001b[39m tensors_and_pattern[:\u001b[38;5;241m-\u001b[39m\u001b[38;5;241m1\u001b[39m]\n\u001b[1;32m    900\u001b[0m pattern \u001b[38;5;241m=\u001b[39m _compactify_pattern_for_einsum(pattern)\n\u001b[0;32m--> 901\u001b[0m \u001b[38;5;28;01mreturn\u001b[39;00m \u001b[43mget_backend\u001b[49m\u001b[43m(\u001b[49m\u001b[43mtensors\u001b[49m\u001b[43m[\u001b[49m\u001b[38;5;241;43m0\u001b[39;49m\u001b[43m]\u001b[49m\u001b[43m)\u001b[49m\u001b[38;5;241m.\u001b[39meinsum(pattern, \u001b[38;5;241m*\u001b[39mtensors)\n",
      "File \u001b[0;32m~/Documents/venvs/legato_simple/lib/python3.10/site-packages/einops/_backends.py:59\u001b[0m, in \u001b[0;36mget_backend\u001b[0;34m(tensor)\u001b[0m\n\u001b[1;32m     56\u001b[0m                 _type2backend[_type] \u001b[38;5;241m=\u001b[39m backend\n\u001b[1;32m     57\u001b[0m                 \u001b[38;5;28;01mreturn\u001b[39;00m backend\n\u001b[0;32m---> 59\u001b[0m \u001b[38;5;28;01mraise\u001b[39;00m \u001b[38;5;167;01mRuntimeError\u001b[39;00m(\u001b[38;5;124m\"\u001b[39m\u001b[38;5;124mTensor type unknown to einops \u001b[39m\u001b[38;5;132;01m{}\u001b[39;00m\u001b[38;5;124m\"\u001b[39m\u001b[38;5;241m.\u001b[39mformat(\u001b[38;5;28mtype\u001b[39m(tensor)))\n",
      "\u001b[0;31mRuntimeError\u001b[0m: Tensor type unknown to einops <class 'list'>"
     ]
    }
   ],
   "source": [
    "latent_traj_states = state_encoder(traj_states)\n",
    "latent_traj_actions = action_encoder((traj_actions, traj_states[..., :-1, :]))\n",
    "latent_initial_state = state_encoder(initial_state[None])\n",
    "\n",
    "predicted_fut_latent_states, mask = transiton_model(\n",
    "    latent_initial_state, latent_traj_actions[None], return_mask=True\n",
    ")\n",
    "predicted_fut_states = state_decoder(predicted_fut_latent_states)\n",
    "actual_fut_states = traj_states[1:]\n",
    "latent_traj_states = state_encoder(traj_states)\n",
    "actual_fut_latent_states = state_encoder(actual_fut_states)"
   ]
  },
  {
   "cell_type": "code",
   "execution_count": null,
   "metadata": {},
   "outputs": [],
   "source": [
    "actual_fut_latent_states = state_encoder(actual_fut_states)"
   ]
  },
  {
   "cell_type": "code",
   "execution_count": null,
   "metadata": {},
   "outputs": [],
   "source": [
    "traj_actions"
   ]
  },
  {
   "cell_type": "code",
   "execution_count": null,
   "metadata": {},
   "outputs": [],
   "source": [
    "traj_states"
   ]
  },
  {
   "cell_type": "code",
   "execution_count": null,
   "metadata": {},
   "outputs": [],
   "source": [
    "reconstructed_traj_actions = action_decoder(\n",
    "    (latent_traj_actions, latent_traj_states[..., :-1, :])\n",
    ")"
   ]
  },
  {
   "cell_type": "code",
   "execution_count": null,
   "metadata": {},
   "outputs": [],
   "source": [
    "reconstructed_traj_actions"
   ]
  },
  {
   "cell_type": "code",
   "execution_count": null,
   "metadata": {},
   "outputs": [],
   "source": [
    "predicted_fut_latent_states"
   ]
  },
  {
   "cell_type": "code",
   "execution_count": null,
   "metadata": {},
   "outputs": [],
   "source": [
    "actual_fut_latent_states"
   ]
  },
  {
   "cell_type": "code",
   "execution_count": null,
   "metadata": {},
   "outputs": [],
   "source": [
    "predicted_fut_states"
   ]
  },
  {
   "cell_type": "code",
   "execution_count": null,
   "metadata": {},
   "outputs": [],
   "source": [
    "actual_fut_states"
   ]
  },
  {
   "cell_type": "code",
   "execution_count": null,
   "metadata": {},
   "outputs": [],
   "source": [
    "latent_state_sampler = PBallSampler(4, 1, 2.0, device=\"cuda\")\n",
    "latent_action_sampler = PBallSampler(2, 1, 1.0, device=\"cuda\")\n",
    "latent_action_state_sampler = lambda n: (\n",
    "    latent_action_sampler(n),\n",
    "    latent_state_sampler(n),\n",
    ")"
   ]
  },
  {
   "cell_type": "code",
   "execution_count": null,
   "metadata": {},
   "outputs": [],
   "source": [
    "action_samples = action_decoder(latent_action_state_sampler(4096))"
   ]
  },
  {
   "cell_type": "code",
   "execution_count": null,
   "metadata": {},
   "outputs": [],
   "source": [
    "action_samples"
   ]
  },
  {
   "cell_type": "code",
   "execution_count": null,
   "metadata": {},
   "outputs": [],
   "source": [
    "actions"
   ]
  },
  {
   "cell_type": "code",
   "execution_count": null,
   "metadata": {},
   "outputs": [],
   "source": []
  }
 ],
 "metadata": {
  "kernelspec": {
   "display_name": "legato_simple",
   "language": "python",
   "name": "python3"
  },
  "language_info": {
   "codemirror_mode": {
    "name": "ipython",
    "version": 3
   },
   "file_extension": ".py",
   "mimetype": "text/x-python",
   "name": "python",
   "nbconvert_exporter": "python",
   "pygments_lexer": "ipython3",
   "version": "3.10.12"
  }
 },
 "nbformat": 4,
 "nbformat_minor": 2
}
