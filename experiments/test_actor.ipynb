{
 "cells": [
  {
   "cell_type": "code",
   "execution_count": null,
   "metadata": {},
   "outputs": [],
   "source": [
    "import os\n",
    "\n",
    "import gymnasium as gym\n",
    "import mediapy as media\n",
    "import numpy as np\n",
    "import seaborn as sns\n",
    "import torch\n",
    "from tqdm import tqdm\n",
    "import wandb\n",
    "\n",
    "from legato.nets import *\n",
    "from legato.sampler import *"
   ]
  },
  {
   "cell_type": "code",
   "execution_count": null,
   "metadata": {},
   "outputs": [],
   "source": [
    "# Set mujoco to use EGL\n",
    "os.environ[\"MUJOCO_GL\"] = \"egl\""
   ]
  },
  {
   "cell_type": "code",
   "execution_count": null,
   "metadata": {},
   "outputs": [],
   "source": [
    "# Download files from a past wandb run\n",
    "run_id = \"dmqzn687\"\n",
    "for name in [\n",
    "    \"state_encoder.pt\",\n",
    "    \"action_encoder.pt\",\n",
    "    \"transition_model.pt\",\n",
    "    \"state_decoder.pt\",\n",
    "    \"action_decoder.pt\",\n",
    "    \"indices.npz\",\n",
    "]:\n",
    "    wandb.restore(\n",
    "        f\"trained_net_params/{name}\",\n",
    "        run_path=f\"mishmish66/legato/{run_id}\",\n",
    "        replace=True,\n",
    "        root=\"../\",\n",
    "    )"
   ]
  },
  {
   "cell_type": "code",
   "execution_count": null,
   "metadata": {},
   "outputs": [],
   "source": [
    "# Load models\n",
    "state_encoder = torch.load('../trained_net_params/state_encoder.pt')\n",
    "action_encoder = torch.load('../trained_net_params/action_encoder.pt')\n",
    "transiton_model = torch.load('../trained_net_params/transition_model.pt')\n",
    "state_decoder = torch.load('../trained_net_params/state_decoder.pt')\n",
    "action_decoder = torch.load('../trained_net_params/action_decoder.pt')"
   ]
  },
  {
   "cell_type": "code",
   "execution_count": null,
   "metadata": {},
   "outputs": [],
   "source": [
    "action_space_size = 1.0"
   ]
  },
  {
   "cell_type": "code",
   "execution_count": null,
   "metadata": {},
   "outputs": [],
   "source": [
    "# Now let's optimize a trajectory\n",
    "\n",
    "actor = ActorPolicy(\n",
    "    2,\n",
    "    action_space_size,\n",
    "    state_encoder,\n",
    "    transiton_model,\n",
    "    state_decoder,\n",
    "    action_decoder,\n",
    "    lr=0.1,\n",
    "    decay=1.0,\n",
    "    horizon=1024,\n",
    "    iters=256,\n",
    ").cuda()\n",
    "\n",
    "# actor = torch.compile(actor)\n",
    "\n",
    "parallel_env_count = 8\n",
    "# Make parallel env\n",
    "envs = gym.vector.make(\n",
    "    \"PointMaze_Medium-v3\",\n",
    "    num_envs=parallel_env_count,\n",
    "    asynchronous=True,\n",
    "    render_mode=\"rgb_array\",\n",
    "    continuing_task=True,\n",
    ")\n",
    "\n",
    "obses, infos = envs.reset()\n",
    "states = torch.tensor(obses[\"observation\"], dtype=torch.float32, device=\"cuda\")\n",
    "\n",
    "latent_action_plan = None\n",
    "\n",
    "initial_state = states\n",
    "\n",
    "traj_actions = []\n",
    "traj_states = [initial_state]\n",
    "\n",
    "frame_stacks = [[frame] for frame in envs.call(\"render\")]\n",
    "\n",
    "loss_curves = []\n",
    "for i in tqdm(range(256), disable=True):\n",
    "\n",
    "    target_states = torch.zeros(\n",
    "        (parallel_env_count, 4), dtype=torch.float32, device=\"cuda\"\n",
    "    )\n",
    "    desired_goals = torch.tensor(\n",
    "        obses[\"desired_goal\"], dtype=torch.float32, device=\"cuda\"\n",
    "    )\n",
    "    target_states[:, :2] = desired_goals\n",
    "\n",
    "    next_actions, latent_action_plan, loss_curve = actor(\n",
    "        states, target_states, None, return_curve=True\n",
    "    )\n",
    "\n",
    "    loss_curves.append(loss_curve)\n",
    "    obses, rew, term, trunc, info = envs.step(next_actions.cpu().numpy())\n",
    "\n",
    "    traj_actions.append(next_actions)\n",
    "    traj_states.append(obses[\"observation\"])\n",
    "\n",
    "    for frame_stack, frame in zip(frame_stacks, envs.call(\"render\")):\n",
    "        frame_stack.append(frame)\n",
    "    print(f\"Iteration {i}, action: {next_actions[0].cpu().numpy()}\")\n",
    "\n",
    "traj_actions = torch.stack(traj_actions, dim=1)\n",
    "traj_states = torch.tensor(states, dtype=torch.float32, device=\"cuda\")"
   ]
  },
  {
   "cell_type": "code",
   "execution_count": null,
   "metadata": {},
   "outputs": [],
   "source": [
    "curve = loss_curves[5]\n",
    "# Plot the loss curve with i as the x axis\n",
    "sns.lineplot(x=range(len(curve)), y=curve)"
   ]
  },
  {
   "cell_type": "code",
   "execution_count": null,
   "metadata": {},
   "outputs": [],
   "source": [
    "# Show the video\n",
    "media.show_video(frame_stacks[6], fps=30)"
   ]
  },
  {
   "cell_type": "code",
   "execution_count": null,
   "metadata": {},
   "outputs": [],
   "source": [
    "# Load data from data.npz\n",
    "data = np.load(\"../data.npz\")\n",
    "torchify = lambda *xs: [torch.tensor(x, dtype=torch.float32, device=\"cuda\") for x in xs]\n",
    "# torchify = lambda *xs: [torch.tensor(x, dtype=torch.float32) for x in xs]\n",
    "observations, actions = torchify(data[\"observations\"], data[\"actions\"])\n",
    "# observations, actions = observations[:4096], actions[:4096]"
   ]
  },
  {
   "cell_type": "code",
   "execution_count": null,
   "metadata": {},
   "outputs": [],
   "source": [
    "latent_traj_states = state_encoder(traj_states)\n",
    "latent_traj_actions = action_encoder((traj_actions, traj_states[..., :-1, :]))\n",
    "latent_initial_state = state_encoder(initial_state[None])\n",
    "\n",
    "predicted_fut_latent_states, mask = transiton_model(\n",
    "    latent_initial_state, latent_traj_actions[None], return_mask=True\n",
    ")\n",
    "predicted_fut_states = state_decoder(predicted_fut_latent_states)\n",
    "actual_fut_states = traj_states[1:]\n",
    "latent_traj_states = state_encoder(traj_states)\n",
    "actual_fut_latent_states = state_encoder(actual_fut_states)"
   ]
  },
  {
   "cell_type": "code",
   "execution_count": null,
   "metadata": {},
   "outputs": [],
   "source": [
    "actual_fut_latent_states = state_encoder(actual_fut_states)"
   ]
  },
  {
   "cell_type": "code",
   "execution_count": null,
   "metadata": {},
   "outputs": [],
   "source": [
    "traj_actions"
   ]
  },
  {
   "cell_type": "code",
   "execution_count": null,
   "metadata": {},
   "outputs": [],
   "source": [
    "traj_states"
   ]
  },
  {
   "cell_type": "code",
   "execution_count": null,
   "metadata": {},
   "outputs": [],
   "source": [
    "reconstructed_traj_actions = action_decoder(\n",
    "    (latent_traj_actions, latent_traj_states[..., :-1, :])\n",
    ")"
   ]
  },
  {
   "cell_type": "code",
   "execution_count": null,
   "metadata": {},
   "outputs": [],
   "source": [
    "reconstructed_traj_actions"
   ]
  },
  {
   "cell_type": "code",
   "execution_count": null,
   "metadata": {},
   "outputs": [],
   "source": [
    "predicted_fut_latent_states"
   ]
  },
  {
   "cell_type": "code",
   "execution_count": null,
   "metadata": {},
   "outputs": [],
   "source": [
    "actual_fut_latent_states"
   ]
  },
  {
   "cell_type": "code",
   "execution_count": null,
   "metadata": {},
   "outputs": [],
   "source": [
    "predicted_fut_states"
   ]
  },
  {
   "cell_type": "code",
   "execution_count": null,
   "metadata": {},
   "outputs": [],
   "source": [
    "actual_fut_states"
   ]
  },
  {
   "cell_type": "code",
   "execution_count": null,
   "metadata": {},
   "outputs": [],
   "source": [
    "latent_state_sampler = PBallSampler(4, 1, 2.0, device=\"cuda\")\n",
    "latent_action_sampler = PBallSampler(2, 1, 1.0, device=\"cuda\")\n",
    "latent_action_state_sampler = lambda n: (\n",
    "    latent_action_sampler(n),\n",
    "    latent_state_sampler(n),\n",
    ")"
   ]
  },
  {
   "cell_type": "code",
   "execution_count": null,
   "metadata": {},
   "outputs": [],
   "source": [
    "action_samples = action_decoder(latent_action_state_sampler(4096))"
   ]
  },
  {
   "cell_type": "code",
   "execution_count": null,
   "metadata": {},
   "outputs": [],
   "source": [
    "action_samples"
   ]
  },
  {
   "cell_type": "code",
   "execution_count": null,
   "metadata": {},
   "outputs": [],
   "source": [
    "actions"
   ]
  },
  {
   "cell_type": "code",
   "execution_count": null,
   "metadata": {},
   "outputs": [],
   "source": []
  }
 ],
 "metadata": {
  "kernelspec": {
   "display_name": "legato_simple",
   "language": "python",
   "name": "python3"
  },
  "language_info": {
   "codemirror_mode": {
    "name": "ipython",
    "version": 3
   },
   "file_extension": ".py",
   "mimetype": "text/x-python",
   "name": "python",
   "nbconvert_exporter": "python",
   "pygments_lexer": "ipython3",
   "version": "3.10.12"
  }
 },
 "nbformat": 4,
 "nbformat_minor": 2
}
