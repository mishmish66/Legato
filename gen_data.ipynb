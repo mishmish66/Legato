{
 "cells": [
  {
   "cell_type": "code",
   "execution_count": 1,
   "metadata": {},
   "outputs": [],
   "source": [
    "import gymnasium as gym\n",
    "import mujoco\n",
    "import numpy as np\n",
    "\n",
    "import concurrent.futures\n",
    "\n",
    "from torch import nn\n",
    "\n",
    "import tempfile\n",
    "\n",
    "from tqdm.notebook import tqdm"
   ]
  },
  {
   "cell_type": "code",
   "execution_count": 2,
   "metadata": {},
   "outputs": [],
   "source": [
    "def work_fn():\n",
    "    env = gym.make(\"PointMaze_Open-v3\", max_episode_steps=1024)\n",
    "    obs = env.reset()\n",
    "    actions = []\n",
    "    done = False\n",
    "    truncated = False\n",
    "\n",
    "    obs_acts = []\n",
    "\n",
    "    while not done and not truncated:\n",
    "        action = env.action_space.sample()\n",
    "        obs, reward, done, truncated, info = env.step(action)\n",
    "        obs_acts.append((obs[\"observation\"], action))\n",
    "\n",
    "    return obs_acts"
   ]
  },
  {
   "cell_type": "code",
   "execution_count": 3,
   "metadata": {},
   "outputs": [
    {
     "data": {
      "application/vnd.jupyter.widget-view+json": {
       "model_id": "356adff7de6d41998e206ab787b31374",
       "version_major": 2,
       "version_minor": 0
      },
      "text/plain": [
       "  0%|          | 0/65536 [00:00<?, ?it/s]"
      ]
     },
     "metadata": {},
     "output_type": "display_data"
    }
   ],
   "source": [
    "trajectories = []\n",
    "\n",
    "\n",
    "num_trajectories = 65536\n",
    "pbar = tqdm(total=num_trajectories)\n",
    "with concurrent.futures.ProcessPoolExecutor(max_workers=16) as executor:\n",
    "    # Generate 1024 trajectories\n",
    "    futures = [executor.submit(work_fn) for _ in range(num_trajectories)]\n",
    "    for future in concurrent.futures.as_completed(futures):\n",
    "        trajectories.append(future.result())\n",
    "        pbar.update(1)\n",
    "        "
   ]
  },
  {
   "cell_type": "code",
   "execution_count": 4,
   "metadata": {},
   "outputs": [
    {
     "data": {
      "application/vnd.jupyter.widget-view+json": {
       "model_id": "622121fcff98428596b72e7350f8ca3f",
       "version_major": 2,
       "version_minor": 0
      },
      "text/plain": [
       "  0%|          | 0/65536 [00:00<?, ?it/s]"
      ]
     },
     "metadata": {},
     "output_type": "display_data"
    }
   ],
   "source": [
    "# Consume the trajectories to create a tensor of observations and actions\n",
    "observations = []\n",
    "actions = []\n",
    "\n",
    "pbar = tqdm(total=len(trajectories))\n",
    "for trajectory in trajectories:\n",
    "    trajectory_observations = []\n",
    "    trajectory_actions = []\n",
    "    for obs, act in trajectory:\n",
    "        trajectory_observations.append(obs)\n",
    "        trajectory_actions.append(act)\n",
    "        del obs, act\n",
    "\n",
    "    observations.append(trajectory_observations)\n",
    "    actions.append(trajectory_actions)\n",
    "\n",
    "    pbar.update(1)\n",
    "\n",
    "observations = np.array(observations)\n",
    "actions = np.array(actions)"
   ]
  },
  {
   "cell_type": "code",
   "execution_count": 6,
   "metadata": {},
   "outputs": [],
   "source": [
    "# Save the data\n",
    "np.savez_compressed(\"data.npz\", observations=observations, actions=actions)"
   ]
  },
  {
   "cell_type": "code",
   "execution_count": null,
   "metadata": {},
   "outputs": [],
   "source": []
  }
 ],
 "metadata": {
  "kernelspec": {
   "display_name": "legato_simple",
   "language": "python",
   "name": "python3"
  },
  "language_info": {
   "codemirror_mode": {
    "name": "ipython",
    "version": 3
   },
   "file_extension": ".py",
   "mimetype": "text/x-python",
   "name": "python",
   "nbconvert_exporter": "python",
   "pygments_lexer": "ipython3",
   "version": "3.10.12"
  }
 },
 "nbformat": 4,
 "nbformat_minor": 2
}
