{
 "cells": [
  {
   "cell_type": "code",
   "execution_count": null,
   "metadata": {},
   "outputs": [],
   "source": [
    "import gymnasium as gym\n",
    "import numpy as np\n",
    "import pandas\n",
    "import seaborn as sns\n",
    "import torch\n",
    "from einops import einsum, pack, rearrange, repeat\n",
    "from matplotlib import pyplot as plt\n",
    "from torch import nn\n",
    "\n",
    "from nets import Perceptron, TransitionModel"
   ]
  },
  {
   "cell_type": "code",
   "execution_count": null,
   "metadata": {},
   "outputs": [],
   "source": [
    "np_rng = np.random.default_rng(0)"
   ]
  },
  {
   "cell_type": "code",
   "execution_count": null,
   "metadata": {},
   "outputs": [],
   "source": [
    "# Load data from data.npz\n",
    "data = np.load(\"data.npz\")\n",
    "indices = np.load(\"trained_net_params/indices.npz\")\n",
    "train_indices, test_indices = indices[\"train_indices\"], indices[\"test_indices\"]\n",
    "\n",
    "observations_train = data[\"observations\"][train_indices]\n",
    "actions_train = data[\"actions\"][train_indices]\n",
    "\n",
    "observations_test = torch.tensor(data[\"observations\"][test_indices], dtype=torch.float32, device=\"cuda\")\n",
    "actions_test = torch.tensor(data[\"actions\"][test_indices], dtype=torch.float32, device=\"cuda\")"
   ]
  },
  {
   "cell_type": "code",
   "execution_count": null,
   "metadata": {},
   "outputs": [],
   "source": [
    "# Load models\n",
    "state_encoder = torch.load(\"trained_net_params/state_encoder.pt\")\n",
    "action_encoder = torch.load(\"trained_net_params/action_encoder.pt\")\n",
    "transition_model = torch.load(\"trained_net_params/transition_model.pt\")\n",
    "state_decoder = torch.load(\"trained_net_params/state_decoder.pt\")\n",
    "action_decoder = torch.load(\"trained_net_params/action_decoder.pt\")"
   ]
  },
  {
   "cell_type": "code",
   "execution_count": null,
   "metadata": {},
   "outputs": [],
   "source": [
    "flat_states = rearrange(observations_test, \"... f -> (...) f\")\n",
    "flat_actions = rearrange(actions_test, \"... f -> (...) f\")"
   ]
  },
  {
   "cell_type": "code",
   "execution_count": null,
   "metadata": {},
   "outputs": [],
   "source": [
    "# Get stdev of encoded states and actions across each element\n",
    "with torch.no_grad():\n",
    "    encoded_states = state_encoder(flat_states)\n",
    "    state_std = torch.std(encoded_states, dim=0)\n",
    "\n",
    "    encoded_actions = action_encoder(torch.cat([flat_actions, flat_states], dim=-1))\n",
    "\n",
    "    recovered_states = state_decoder(encoded_states)\n",
    "    recovered_actions = action_decoder(\n",
    "        torch.cat([encoded_actions, encoded_states], dim=-1)\n",
    "    )\n",
    "\n",
    "    action_std = torch.std(encoded_actions, dim=0)"
   ]
  },
  {
   "cell_type": "code",
   "execution_count": null,
   "metadata": {},
   "outputs": [],
   "source": [
    "print(f\"State std: {state_std.cpu().numpy()}\\nAction std: {action_std.cpu().numpy()}\")"
   ]
  },
  {
   "cell_type": "code",
   "execution_count": null,
   "metadata": {},
   "outputs": [],
   "source": [
    "transition_batch_size = 32\n",
    "# Test forward model\n",
    "traj_inds = torch.randint(\n",
    "    0, observations_test.shape[0], (transition_batch_size,), device=\"cuda\"\n",
    ")\n",
    "test_start_inds = torch.randint(\n",
    "    0, int(observations_test.shape[-2] // 1.1), (transition_batch_size,), device=\"cuda\"\n",
    ")\n",
    "\n",
    "test_states = observations_test[traj_inds]\n",
    "test_actions = actions_test[traj_inds]\n",
    "\n",
    "start_states = observations_test[traj_inds, test_start_inds]"
   ]
  },
  {
   "cell_type": "code",
   "execution_count": null,
   "metadata": {},
   "outputs": [],
   "source": [
    "start_states.shape"
   ]
  },
  {
   "cell_type": "code",
   "execution_count": null,
   "metadata": {},
   "outputs": [],
   "source": [
    "latent_start_states = state_encoder(start_states)\n",
    "\n",
    "latent_traj_actions = action_encoder(torch.cat([test_actions, test_states], dim=-1))\n",
    "\n",
    "latent_pred_fut_states = transition_model(\n",
    "    latent_start_states, latent_traj_actions, start_indices=test_start_inds\n",
    ")"
   ]
  },
  {
   "cell_type": "code",
   "execution_count": null,
   "metadata": {},
   "outputs": [],
   "source": [
    "latent_fut_states = state_encoder(test_states)\n",
    "\n",
    "traj_ind = traj_inds[0]\n",
    "start_ind = test_start_inds[0]\n",
    "\n",
    "latent_fut_states_select = latent_fut_states[0, start_ind:]\n",
    "latent_pred_fut_states_select = latent_pred_fut_states[0, start_ind:]"
   ]
  },
  {
   "cell_type": "code",
   "execution_count": null,
   "metadata": {},
   "outputs": [],
   "source": [
    "torch.stack([latent_fut_states_select, latent_pred_fut_states_select], dim=-1)"
   ]
  },
  {
   "cell_type": "code",
   "execution_count": null,
   "metadata": {},
   "outputs": [],
   "source": [
    "# Measure error per time into the future\n",
    "\n",
    "time_into_future = torch.arange(\n",
    "    latent_fut_states.shape[-2], device=\"cuda\"\n",
    ")[None] - test_start_inds[..., None]"
   ]
  },
  {
   "cell_type": "code",
   "execution_count": null,
   "metadata": {},
   "outputs": [],
   "source": [
    "mae_errors = torch.mean(\n",
    "    torch.abs(latent_fut_states - latent_pred_fut_states), dim=-1\n",
    ")"
   ]
  },
  {
   "cell_type": "code",
   "execution_count": null,
   "metadata": {},
   "outputs": [],
   "source": [
    "mae_errors_flat = rearrange(mae_errors, \"... -> (...)\").detach().cpu().numpy()\n",
    "time_into_future_flat = (\n",
    "    rearrange(time_into_future, \"... -> (...)\").detach().cpu().numpy()\n",
    ")\n",
    "\n",
    "df = pandas.DataFrame.from_dict(\n",
    "    {\"mae_error\": mae_errors_flat, \"time_into_future\": time_into_future_flat},\n",
    ")\n",
    "df = df[df[\"time_into_future\"] >= 0]"
   ]
  },
  {
   "cell_type": "code",
   "execution_count": null,
   "metadata": {},
   "outputs": [],
   "source": [
    "fig, ax = plt.subplots()\n",
    "sns.lineplot(data=df, x=\"time_into_future\", y=\"mae_error\", ax=ax)\n",
    "ax.set_xlim(0, 1024)"
   ]
  },
  {
   "cell_type": "code",
   "execution_count": null,
   "metadata": {},
   "outputs": [],
   "source": []
  }
 ],
 "metadata": {
  "kernelspec": {
   "display_name": "legato_simple",
   "language": "python",
   "name": "python3"
  },
  "language_info": {
   "codemirror_mode": {
    "name": "ipython",
    "version": 3
   },
   "file_extension": ".py",
   "mimetype": "text/x-python",
   "name": "python",
   "nbconvert_exporter": "python",
   "pygments_lexer": "ipython3",
   "version": "3.10.12"
  }
 },
 "nbformat": 4,
 "nbformat_minor": 2
}
